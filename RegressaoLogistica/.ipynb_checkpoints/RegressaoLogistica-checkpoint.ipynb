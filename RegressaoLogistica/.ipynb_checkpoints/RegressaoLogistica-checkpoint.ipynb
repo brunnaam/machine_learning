{
 "cells": [
  {
   "cell_type": "markdown",
   "metadata": {},
   "source": [
    "# Regressão Logística\n",
    "\n",
    "Brunna de Sousa Pereira Amorim"
   ]
  },
  {
   "cell_type": "code",
   "execution_count": 1,
   "metadata": {
    "collapsed": true
   },
   "outputs": [],
   "source": [
    "from sklearn import linear_model\n",
    "import numpy as np\n",
    "import pandas as pd\n",
    "import time"
   ]
  },
  {
   "cell_type": "markdown",
   "metadata": {},
   "source": [
    "### Calculando Função logística (Sigmoid)\n",
    "\n",
    "$\\sigma (x) = \\displaystyle \\frac{1}{1 + e^{-x}}$"
   ]
  },
  {
   "cell_type": "code",
   "execution_count": 2,
   "metadata": {
    "collapsed": true
   },
   "outputs": [],
   "source": [
    "def logistic(w, X_):\n",
    "    x = np.dot(X_, w)\n",
    "    return 1 / (1 + np.exp(-x))"
   ]
  },
  {
   "cell_type": "markdown",
   "metadata": {},
   "source": [
    "### Gradiente ascendente"
   ]
  },
  {
   "cell_type": "code",
   "execution_count": 3,
   "metadata": {
    "collapsed": true
   },
   "outputs": [],
   "source": [
    "def step_gradient(w_current, X, Y, learningRate):\n",
    "    grad = np.zeros((len(w_current), 1))\n",
    "    \n",
    "    for var in range(len(grad)):\n",
    "        diff = Y - logistic(w_current, X)\n",
    "        grad[var] += np.dot(X[:,var], diff)\n",
    "    \n",
    "    w_current += (grad * learningRate)\n",
    "    return [w_current, grad]"
   ]
  },
  {
   "cell_type": "code",
   "execution_count": null,
   "metadata": {
    "collapsed": true
   },
   "outputs": [],
   "source": [
    "def gradient_ascendant_runner(starting_w, X,Y, learning_rate, epsilon):\n",
    "    w = starting_w\n",
    "    grad = np.array([np.inf,np.inf, np.inf, np.inf, np.inf, np.inf])\n",
    "    while (np.linalg.norm(grad)>=epsilon):\n",
    "        w,grad = step_gradient(w, X, Y, learning_rate)\n",
    "    return w"
   ]
  },
  {
   "cell_type": "markdown",
   "metadata": {},
   "source": [
    "### Execução do algoritmo"
   ]
  },
  {
   "cell_type": "code",
   "execution_count": null,
   "metadata": {
    "scrolled": true
   },
   "outputs": [],
   "source": [
    "data = pd.read_csv(\"iris.csv\", sep=',')\n",
    "\n",
    "X = data.iloc[:,0:-1]\n",
    "X = np.c_[np.ones(len(X)), X]\n",
    "\n",
    "data['class'] = np.where(data['class'] == 'Iris-setosa', 0, 1)\n",
    "\n",
    "Y = data[['class']]\n",
    "\n",
    "\n",
    "init_w = np.zeros((5,1))\n",
    "learning_rate = 0.00001\n",
    "epsilon = 0.01\n",
    "\n",
    "tic = time.time()\n",
    "w = gradient_ascendant_runner(init_w, X,Y, learning_rate, epsilon)\n",
    "toc = time.time()\n",
    "print(\"Gradiente ascendente convergiu com os coeficientes {0}\".format(w))\n",
    "print(\"Versão vetorizada rodou em: \" + str(1000*(toc-tic)) + \" ms\")\n",
    "print(\"lbalbalblalba\")"
   ]
  },
  {
   "cell_type": "markdown",
   "metadata": {},
   "source": [
    "### Coeficientes usando o scikit"
   ]
  },
  {
   "cell_type": "code",
   "execution_count": null,
   "metadata": {},
   "outputs": [],
   "source": [
    "regressao = linear_model.LinearRegression()\n",
    "regressao.fit(X, data.class)\n",
    "print(\"Coeficientes usando o scikit: {0}\".format(regressao.coef_))"
   ]
  },
  {
   "cell_type": "code",
   "execution_count": null,
   "metadata": {
    "collapsed": true
   },
   "outputs": [],
   "source": []
  }
 ],
 "metadata": {
  "celltoolbar": "Raw Cell Format",
  "kernelspec": {
   "display_name": "Python 2",
   "language": "python",
   "name": "python2"
  },
  "language_info": {
   "codemirror_mode": {
    "name": "ipython",
    "version": 2
   },
   "file_extension": ".py",
   "mimetype": "text/x-python",
   "name": "python",
   "nbconvert_exporter": "python",
   "pygments_lexer": "ipython2",
   "version": "2.7.13"
  }
 },
 "nbformat": 4,
 "nbformat_minor": 2
}
