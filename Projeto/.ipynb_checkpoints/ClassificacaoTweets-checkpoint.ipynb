{
 "cells": [
  {
   "cell_type": "markdown",
   "metadata": {},
   "source": [
    "# Classificação de tweets no contexto político\n",
    "\n",
    "### Regressão Logística\n",
    "\n",
    "#### Brunna de Sousa Pereira Amorim\n"
   ]
  },
  {
   "cell_type": "markdown",
   "metadata": {},
   "source": [
    "## 1 - Introdução\n",
    "\n",
    "   A web 2.0 propiciou a difusão em grande escala de informações não estruturadas. Os usuários não simplesmente navegam na Web, eles contribuem ativamente com seu conteúdo através de diferentes meios, sendo as redes sociais um dos principais. Atualmente, o Twitter é muito utilizado pelos usuários como fonte de informação e como meio comentar sobre diversos assuntos, produtos e serviços. Por isso, muitos estudos já foram publicados usando dados provenientes do Twitter para classificação textual, mas ainda assim observa-se que a busca por técnicas para melhorar e tornar a classificação textual ainda é objeto de pesquisa.\n",
    "   \n",
    "   Hoje em dia, com a situação atual do país, as pessoas recorrem cada vez mais as redes sociais para comentar sobre algum assunto, e um deles é a política. Seria possível identificar tweets que falem sobre esse assunto? Usar características não textuais pode melhorar os resultados? Características não-textuais do Twitter incluem informações como o número de curtidas e o número de retweets (compartilhamentos) que a publicação obteve, e se a mesma possui algum link no conteúdo.\n",
    "   \n",
    "   Então, desenvolvemos esse estudo para verificar a viabilidade do uso de Regressão Logística para detecção de tweets com cunho político e verificar se o uso de features externas ajudam na classificação."
   ]
  },
  {
   "cell_type": "markdown",
   "metadata": {},
   "source": [
    "## 2 - Dados\n",
    "\n",
    "Os dados usados para esse projeto foram minerados usando o pacote TwitteR no R, onde foi possível coletar tweets com base em determinadas palavras-chave. A base é composta por 8365 tweets, dos quais 4165 essão classificados como \"político\" e 4200 estão classificados como \"não político\", mantendo a base um pouco balanceada.\n",
    "\n",
    "Dos tweets, selecionamos algumas features que podem ajudar na classificação juntamente com o texto tweet. As características são descritas a seguir:\n",
    "* text: texto que foi escrito e publicado por um determinado usuário da rede social\n",
    "* favoriteCount: número de curtidas que o tweet recebeu\n",
    "* retweetCount: número de vezes que o texto foi retweetado, ou seja, compartilhado\n",
    "* politico: variável que identifica se o tweet tem contexto político ou não\n",
    "\n",
    "Abaixo podemos visualizar o formato dos dados:"
   ]
  },
  {
   "cell_type": "code",
   "execution_count": 14,
   "metadata": {
    "collapsed": true
   },
   "outputs": [],
   "source": [
    "import pandas as pd\n",
    "import numpy as np\n",
    "from sklearn.linear_model import LogisticRegression\n",
    "from sklearn.cross_validation import cross_val_score\n",
    "from sklearn.cross_validation import train_test_split\n",
    "from sklearn import metrics\n",
    "\n",
    "import matplotlib.pyplot as plt\n",
    "%config InlineBackend.figure_format = 'retina' \n",
    "%matplotlib inline"
   ]
  },
  {
   "cell_type": "code",
   "execution_count": 15,
   "metadata": {},
   "outputs": [
    {
     "data": {
      "text/html": [
       "<div>\n",
       "<style>\n",
       "    .dataframe thead tr:only-child th {\n",
       "        text-align: right;\n",
       "    }\n",
       "\n",
       "    .dataframe thead th {\n",
       "        text-align: left;\n",
       "    }\n",
       "\n",
       "    .dataframe tbody tr th {\n",
       "        vertical-align: top;\n",
       "    }\n",
       "</style>\n",
       "<table border=\"1\" class=\"dataframe\">\n",
       "  <thead>\n",
       "    <tr style=\"text-align: right;\">\n",
       "      <th></th>\n",
       "      <th>num</th>\n",
       "      <th>text</th>\n",
       "      <th>favoriteCount</th>\n",
       "      <th>retweetCount</th>\n",
       "      <th>politico</th>\n",
       "    </tr>\n",
       "  </thead>\n",
       "  <tbody>\n",
       "    <tr>\n",
       "      <th>0</th>\n",
       "      <td>1</td>\n",
       "      <td>Lula ou Dilma? � lula ladrao roubou meu cora��...</td>\n",
       "      <td>0</td>\n",
       "      <td>0</td>\n",
       "      <td>1</td>\n",
       "    </tr>\n",
       "    <tr>\n",
       "      <th>1</th>\n",
       "      <td>2</td>\n",
       "      <td>RT @berocorreia: @bobjackk Em junho de 2008, g...</td>\n",
       "      <td>0</td>\n",
       "      <td>4</td>\n",
       "      <td>1</td>\n",
       "    </tr>\n",
       "    <tr>\n",
       "      <th>2</th>\n",
       "      <td>3</td>\n",
       "      <td>RT @PatoCorporation: O mesmo juiz Moro da @JFP...</td>\n",
       "      <td>0</td>\n",
       "      <td>33</td>\n",
       "      <td>1</td>\n",
       "    </tr>\n",
       "    <tr>\n",
       "      <th>3</th>\n",
       "      <td>4</td>\n",
       "      <td>RT @InhaAmarall: Censurar a internet tipo Cuba...</td>\n",
       "      <td>0</td>\n",
       "      <td>1</td>\n",
       "      <td>1</td>\n",
       "    </tr>\n",
       "    <tr>\n",
       "      <th>4</th>\n",
       "      <td>5</td>\n",
       "      <td>Este pa�s virou lixo depois do golpe no govern...</td>\n",
       "      <td>0</td>\n",
       "      <td>0</td>\n",
       "      <td>1</td>\n",
       "    </tr>\n",
       "  </tbody>\n",
       "</table>\n",
       "</div>"
      ],
      "text/plain": [
       "   num                                               text  favoriteCount  \\\n",
       "0    1  Lula ou Dilma? � lula ladrao roubou meu cora��...              0   \n",
       "1    2  RT @berocorreia: @bobjackk Em junho de 2008, g...              0   \n",
       "2    3  RT @PatoCorporation: O mesmo juiz Moro da @JFP...              0   \n",
       "3    4  RT @InhaAmarall: Censurar a internet tipo Cuba...              0   \n",
       "4    5  Este pa�s virou lixo depois do golpe no govern...              0   \n",
       "\n",
       "   retweetCount  politico  \n",
       "0             0         1  \n",
       "1             4         1  \n",
       "2            33         1  \n",
       "3             1         1  \n",
       "4             0         1  "
      ]
     },
     "execution_count": 15,
     "metadata": {},
     "output_type": "execute_result"
    }
   ],
   "source": [
    "data = pd.read_csv(\"tweetsGeral2.csv\")\n",
    "data.head()"
   ]
  },
  {
   "cell_type": "code",
   "execution_count": 16,
   "metadata": {
    "scrolled": true
   },
   "outputs": [
    {
     "data": {
      "text/html": [
       "<div>\n",
       "<style>\n",
       "    .dataframe thead tr:only-child th {\n",
       "        text-align: right;\n",
       "    }\n",
       "\n",
       "    .dataframe thead th {\n",
       "        text-align: left;\n",
       "    }\n",
       "\n",
       "    .dataframe tbody tr th {\n",
       "        vertical-align: top;\n",
       "    }\n",
       "</style>\n",
       "<table border=\"1\" class=\"dataframe\">\n",
       "  <thead>\n",
       "    <tr style=\"text-align: right;\">\n",
       "      <th></th>\n",
       "      <th>num</th>\n",
       "      <th>text</th>\n",
       "      <th>favoriteCount</th>\n",
       "      <th>retweetCount</th>\n",
       "      <th>politico</th>\n",
       "    </tr>\n",
       "  </thead>\n",
       "  <tbody>\n",
       "    <tr>\n",
       "      <th>8360</th>\n",
       "      <td>8361</td>\n",
       "      <td>tamanho � documento? � n�o, meu tamanho n�o es...</td>\n",
       "      <td>0</td>\n",
       "      <td>0</td>\n",
       "      <td>0</td>\n",
       "    </tr>\n",
       "    <tr>\n",
       "      <th>8361</th>\n",
       "      <td>8362</td>\n",
       "      <td>RT @thammymrv: Mulher j� poderia nascer com r�...</td>\n",
       "      <td>0</td>\n",
       "      <td>18</td>\n",
       "      <td>0</td>\n",
       "    </tr>\n",
       "    <tr>\n",
       "      <th>8362</th>\n",
       "      <td>8363</td>\n",
       "      <td>Bem vou bzr para o jantar</td>\n",
       "      <td>0</td>\n",
       "      <td>0</td>\n",
       "      <td>0</td>\n",
       "    </tr>\n",
       "    <tr>\n",
       "      <th>8363</th>\n",
       "      <td>8364</td>\n",
       "      <td>Sem passas*** https://t.co/YdLNS5KvDy</td>\n",
       "      <td>0</td>\n",
       "      <td>0</td>\n",
       "      <td>0</td>\n",
       "    </tr>\n",
       "    <tr>\n",
       "      <th>8364</th>\n",
       "      <td>8365</td>\n",
       "      <td>Voc�s citam as refer�ncias, eu trabalho pra vi...</td>\n",
       "      <td>0</td>\n",
       "      <td>0</td>\n",
       "      <td>0</td>\n",
       "    </tr>\n",
       "  </tbody>\n",
       "</table>\n",
       "</div>"
      ],
      "text/plain": [
       "       num                                               text  favoriteCount  \\\n",
       "8360  8361  tamanho � documento? � n�o, meu tamanho n�o es...              0   \n",
       "8361  8362  RT @thammymrv: Mulher j� poderia nascer com r�...              0   \n",
       "8362  8363                          Bem vou bzr para o jantar              0   \n",
       "8363  8364              Sem passas*** https://t.co/YdLNS5KvDy              0   \n",
       "8364  8365  Voc�s citam as refer�ncias, eu trabalho pra vi...              0   \n",
       "\n",
       "      retweetCount  politico  \n",
       "8360             0         0  \n",
       "8361            18         0  \n",
       "8362             0         0  \n",
       "8363             0         0  \n",
       "8364             0         0  "
      ]
     },
     "execution_count": 16,
     "metadata": {},
     "output_type": "execute_result"
    }
   ],
   "source": [
    "data.tail()"
   ]
  },
  {
   "cell_type": "code",
   "execution_count": 17,
   "metadata": {},
   "outputs": [
    {
     "data": {
      "text/html": [
       "<div>\n",
       "<style>\n",
       "    .dataframe thead tr:only-child th {\n",
       "        text-align: right;\n",
       "    }\n",
       "\n",
       "    .dataframe thead th {\n",
       "        text-align: left;\n",
       "    }\n",
       "\n",
       "    .dataframe tbody tr th {\n",
       "        vertical-align: top;\n",
       "    }\n",
       "</style>\n",
       "<table border=\"1\" class=\"dataframe\">\n",
       "  <thead>\n",
       "    <tr style=\"text-align: right;\">\n",
       "      <th></th>\n",
       "      <th>favoriteCount</th>\n",
       "      <th>retweetCount</th>\n",
       "    </tr>\n",
       "    <tr>\n",
       "      <th>politico</th>\n",
       "      <th></th>\n",
       "      <th></th>\n",
       "    </tr>\n",
       "  </thead>\n",
       "  <tbody>\n",
       "    <tr>\n",
       "      <th>0</th>\n",
       "      <td>0.053333</td>\n",
       "      <td>968.044286</td>\n",
       "    </tr>\n",
       "    <tr>\n",
       "      <th>1</th>\n",
       "      <td>10.439856</td>\n",
       "      <td>55.710924</td>\n",
       "    </tr>\n",
       "  </tbody>\n",
       "</table>\n",
       "</div>"
      ],
      "text/plain": [
       "          favoriteCount  retweetCount\n",
       "politico                             \n",
       "0              0.053333    968.044286\n",
       "1             10.439856     55.710924"
      ]
     },
     "execution_count": 17,
     "metadata": {},
     "output_type": "execute_result"
    }
   ],
   "source": [
    "data[['favoriteCount', 'retweetCount', 'politico']].groupby('politico').mean()"
   ]
  },
  {
   "cell_type": "markdown",
   "metadata": {},
   "source": [
    "## 3 - Usando dados sem features não-textuais\n",
    "\n",
    "As características não-textuais de um tweet consiste em informações que não estão explícitas no texto. As que serão consideradas nesse estudo são: \n",
    "* Número de curtidas que a publicação obteve\n",
    "* Número de retweets (compartilhamentos) que a publicação obteve\n",
    "* Presença ou não de links no corpo do texto\n",
    "\n",
    "Nessa seção, analisaremos dados que não possuem essa informações. Seus resultados serão usados para comparar com os resultados da base que possui essas informações, para verificarmos se houve melhora na classificação dos tweets."
   ]
  },
  {
   "cell_type": "markdown",
   "metadata": {},
   "source": [
    "### 3.1 - Preparando os dados\n",
    "\n",
    "Para a classificação dos tweets, foi gerada uma *bag of words* TFIDF, que consiste na criação de um vetor com todas as palavras de todos os tweets da base de dados e todas as caracteristícas que serão usadas na classificação (classe do tweets, características não-textuais, etc.). Com isso, para cada tweet, é gerado um vetor com a mesma quantidade de atributos do dicionário que irá contar a frequência com que uma determinada palavra do tweet ocorre. Com o TFIDF, leva-se em consideração a relevância da palavra.\n",
    "\n",
    "Essa BoW foi gerada usando Java e exportada para csv."
   ]
  },
  {
   "cell_type": "code",
   "execution_count": 18,
   "metadata": {
    "collapsed": true
   },
   "outputs": [],
   "source": [
    "bow = pd.read_csv(\"tweets_sem_caracteristicas2.csv\")"
   ]
  },
  {
   "cell_type": "code",
   "execution_count": 19,
   "metadata": {
    "collapsed": true
   },
   "outputs": [],
   "source": [
    "Y = bow[bow.columns[0]]\n",
    "Y = np.ravel(Y)"
   ]
  },
  {
   "cell_type": "code",
   "execution_count": 20,
   "metadata": {
    "collapsed": true
   },
   "outputs": [],
   "source": [
    "bow.drop(bow.columns[[0]], axis=1, inplace=True)"
   ]
  },
  {
   "cell_type": "code",
   "execution_count": 21,
   "metadata": {
    "collapsed": true
   },
   "outputs": [],
   "source": [
    "dataX = bow\n",
    "dataY = bow[bow.shape[0]:]"
   ]
  },
  {
   "cell_type": "markdown",
   "metadata": {},
   "source": [
    "### 3.2 - Regressão Logística"
   ]
  },
  {
   "cell_type": "code",
   "execution_count": 22,
   "metadata": {},
   "outputs": [
    {
     "data": {
      "text/plain": [
       "0.98392701998262377"
      ]
     },
     "execution_count": 22,
     "metadata": {},
     "output_type": "execute_result"
    }
   ],
   "source": [
    "model = LogisticRegression()\n",
    "model = model.fit(dataX, Y)\n",
    "\n",
    "# check the accuracy on the training set\n",
    "model.score(dataX, Y)"
   ]
  },
  {
   "cell_type": "code",
   "execution_count": 23,
   "metadata": {},
   "outputs": [
    {
     "data": {
      "text/html": [
       "<div>\n",
       "<style>\n",
       "    .dataframe thead tr:only-child th {\n",
       "        text-align: right;\n",
       "    }\n",
       "\n",
       "    .dataframe thead th {\n",
       "        text-align: left;\n",
       "    }\n",
       "\n",
       "    .dataframe tbody tr th {\n",
       "        vertical-align: top;\n",
       "    }\n",
       "</style>\n",
       "<table border=\"1\" class=\"dataframe\">\n",
       "  <thead>\n",
       "    <tr style=\"text-align: right;\">\n",
       "      <th></th>\n",
       "      <th>0</th>\n",
       "      <th>1</th>\n",
       "    </tr>\n",
       "  </thead>\n",
       "  <tbody>\n",
       "    <tr>\n",
       "      <th>0</th>\n",
       "      <td>0.0</td>\n",
       "      <td>[-2.25187398372]</td>\n",
       "    </tr>\n",
       "    <tr>\n",
       "      <th>1</th>\n",
       "      <td>0.0.1</td>\n",
       "      <td>[0.0308360934031]</td>\n",
       "    </tr>\n",
       "    <tr>\n",
       "      <th>2</th>\n",
       "      <td>0.0.2</td>\n",
       "      <td>[0.0442828996498]</td>\n",
       "    </tr>\n",
       "    <tr>\n",
       "      <th>3</th>\n",
       "      <td>0.0.3</td>\n",
       "      <td>[0.0515296537267]</td>\n",
       "    </tr>\n",
       "    <tr>\n",
       "      <th>4</th>\n",
       "      <td>0.0.4</td>\n",
       "      <td>[-0.0331340160776]</td>\n",
       "    </tr>\n",
       "    <tr>\n",
       "      <th>5</th>\n",
       "      <td>0.0.5</td>\n",
       "      <td>[0.406993810301]</td>\n",
       "    </tr>\n",
       "    <tr>\n",
       "      <th>6</th>\n",
       "      <td>0.0.6</td>\n",
       "      <td>[0.124625584003]</td>\n",
       "    </tr>\n",
       "    <tr>\n",
       "      <th>7</th>\n",
       "      <td>0.0.7</td>\n",
       "      <td>[0.0717480866207]</td>\n",
       "    </tr>\n",
       "    <tr>\n",
       "      <th>8</th>\n",
       "      <td>0.0.8</td>\n",
       "      <td>[0.0768352070789]</td>\n",
       "    </tr>\n",
       "    <tr>\n",
       "      <th>9</th>\n",
       "      <td>0.0.9</td>\n",
       "      <td>[0.0592044159792]</td>\n",
       "    </tr>\n",
       "    <tr>\n",
       "      <th>10</th>\n",
       "      <td>0.0.10</td>\n",
       "      <td>[-0.182334208234]</td>\n",
       "    </tr>\n",
       "    <tr>\n",
       "      <th>11</th>\n",
       "      <td>0.0.11</td>\n",
       "      <td>[-0.0341636083297]</td>\n",
       "    </tr>\n",
       "    <tr>\n",
       "      <th>12</th>\n",
       "      <td>0.0.12</td>\n",
       "      <td>[-0.136532818548]</td>\n",
       "    </tr>\n",
       "    <tr>\n",
       "      <th>13</th>\n",
       "      <td>0.0.13</td>\n",
       "      <td>[0.0263888473643]</td>\n",
       "    </tr>\n",
       "    <tr>\n",
       "      <th>14</th>\n",
       "      <td>0.0.14</td>\n",
       "      <td>[0.0673224472315]</td>\n",
       "    </tr>\n",
       "    <tr>\n",
       "      <th>15</th>\n",
       "      <td>0.0.15</td>\n",
       "      <td>[0.442411761202]</td>\n",
       "    </tr>\n",
       "    <tr>\n",
       "      <th>16</th>\n",
       "      <td>0.0.16</td>\n",
       "      <td>[-0.457933483021]</td>\n",
       "    </tr>\n",
       "    <tr>\n",
       "      <th>17</th>\n",
       "      <td>0.0.17</td>\n",
       "      <td>[-0.136161030044]</td>\n",
       "    </tr>\n",
       "    <tr>\n",
       "      <th>18</th>\n",
       "      <td>0.0.18</td>\n",
       "      <td>[-0.00988183067215]</td>\n",
       "    </tr>\n",
       "    <tr>\n",
       "      <th>19</th>\n",
       "      <td>0.0.19</td>\n",
       "      <td>[-0.0338278375394]</td>\n",
       "    </tr>\n",
       "    <tr>\n",
       "      <th>20</th>\n",
       "      <td>0.0.20</td>\n",
       "      <td>[-0.914255663872]</td>\n",
       "    </tr>\n",
       "    <tr>\n",
       "      <th>21</th>\n",
       "      <td>0.0.21</td>\n",
       "      <td>[0.0626144796494]</td>\n",
       "    </tr>\n",
       "    <tr>\n",
       "      <th>22</th>\n",
       "      <td>0.0.22</td>\n",
       "      <td>[-0.0595117994277]</td>\n",
       "    </tr>\n",
       "    <tr>\n",
       "      <th>23</th>\n",
       "      <td>0.0.23</td>\n",
       "      <td>[0.0230325186006]</td>\n",
       "    </tr>\n",
       "    <tr>\n",
       "      <th>24</th>\n",
       "      <td>0.0.24</td>\n",
       "      <td>[0.0516934202497]</td>\n",
       "    </tr>\n",
       "    <tr>\n",
       "      <th>25</th>\n",
       "      <td>0.0.25</td>\n",
       "      <td>[0.321050040096]</td>\n",
       "    </tr>\n",
       "    <tr>\n",
       "      <th>26</th>\n",
       "      <td>0.0.26</td>\n",
       "      <td>[-0.050673313454]</td>\n",
       "    </tr>\n",
       "    <tr>\n",
       "      <th>27</th>\n",
       "      <td>0.0.27</td>\n",
       "      <td>[-0.138483691995]</td>\n",
       "    </tr>\n",
       "    <tr>\n",
       "      <th>28</th>\n",
       "      <td>0.0.28</td>\n",
       "      <td>[0.0896951832341]</td>\n",
       "    </tr>\n",
       "    <tr>\n",
       "      <th>29</th>\n",
       "      <td>0.0.29</td>\n",
       "      <td>[0.0493746582263]</td>\n",
       "    </tr>\n",
       "    <tr>\n",
       "      <th>...</th>\n",
       "      <td>...</td>\n",
       "      <td>...</td>\n",
       "    </tr>\n",
       "    <tr>\n",
       "      <th>20483</th>\n",
       "      <td>0.0.20472</td>\n",
       "      <td>[-0.0566074185365]</td>\n",
       "    </tr>\n",
       "    <tr>\n",
       "      <th>20484</th>\n",
       "      <td>0.0.20473</td>\n",
       "      <td>[0.125799650134]</td>\n",
       "    </tr>\n",
       "    <tr>\n",
       "      <th>20485</th>\n",
       "      <td>0.0.20474</td>\n",
       "      <td>[-0.0488658731641]</td>\n",
       "    </tr>\n",
       "    <tr>\n",
       "      <th>20486</th>\n",
       "      <td>0.0.20475</td>\n",
       "      <td>[-0.0483979897264]</td>\n",
       "    </tr>\n",
       "    <tr>\n",
       "      <th>20487</th>\n",
       "      <td>0.0.20476</td>\n",
       "      <td>[0.0190141825177]</td>\n",
       "    </tr>\n",
       "    <tr>\n",
       "      <th>20488</th>\n",
       "      <td>0.0.20477</td>\n",
       "      <td>[-0.0876386268137]</td>\n",
       "    </tr>\n",
       "    <tr>\n",
       "      <th>20489</th>\n",
       "      <td>0.0.20478</td>\n",
       "      <td>[0.0292112099393]</td>\n",
       "    </tr>\n",
       "    <tr>\n",
       "      <th>20490</th>\n",
       "      <td>0.0.20479</td>\n",
       "      <td>[-0.042819767398]</td>\n",
       "    </tr>\n",
       "    <tr>\n",
       "      <th>20491</th>\n",
       "      <td>0.0.20480</td>\n",
       "      <td>[0.117289599626]</td>\n",
       "    </tr>\n",
       "    <tr>\n",
       "      <th>20492</th>\n",
       "      <td>0.0.20481</td>\n",
       "      <td>[-0.0132139698921]</td>\n",
       "    </tr>\n",
       "    <tr>\n",
       "      <th>20493</th>\n",
       "      <td>0.0.20482</td>\n",
       "      <td>[0.0293032755232]</td>\n",
       "    </tr>\n",
       "    <tr>\n",
       "      <th>20494</th>\n",
       "      <td>0.0.20483</td>\n",
       "      <td>[0.259749563997]</td>\n",
       "    </tr>\n",
       "    <tr>\n",
       "      <th>20495</th>\n",
       "      <td>0.0.20484</td>\n",
       "      <td>[-0.00189267231477]</td>\n",
       "    </tr>\n",
       "    <tr>\n",
       "      <th>20496</th>\n",
       "      <td>0.0.20485</td>\n",
       "      <td>[0.159078678841]</td>\n",
       "    </tr>\n",
       "    <tr>\n",
       "      <th>20497</th>\n",
       "      <td>0.0.20486</td>\n",
       "      <td>[-0.283859705107]</td>\n",
       "    </tr>\n",
       "    <tr>\n",
       "      <th>20498</th>\n",
       "      <td>0.0.20487</td>\n",
       "      <td>[-0.10454677971]</td>\n",
       "    </tr>\n",
       "    <tr>\n",
       "      <th>20499</th>\n",
       "      <td>0.0.20488</td>\n",
       "      <td>[0.0687295860367]</td>\n",
       "    </tr>\n",
       "    <tr>\n",
       "      <th>20500</th>\n",
       "      <td>0.0.20489</td>\n",
       "      <td>[0.170161706702]</td>\n",
       "    </tr>\n",
       "    <tr>\n",
       "      <th>20501</th>\n",
       "      <td>0.0.20490</td>\n",
       "      <td>[0.0775071860364]</td>\n",
       "    </tr>\n",
       "    <tr>\n",
       "      <th>20502</th>\n",
       "      <td>0.0.20491</td>\n",
       "      <td>[0.0233648762798]</td>\n",
       "    </tr>\n",
       "    <tr>\n",
       "      <th>20503</th>\n",
       "      <td>0.0.20492</td>\n",
       "      <td>[0.0395214792697]</td>\n",
       "    </tr>\n",
       "    <tr>\n",
       "      <th>20504</th>\n",
       "      <td>0.0.20493</td>\n",
       "      <td>[0.131537060106]</td>\n",
       "    </tr>\n",
       "    <tr>\n",
       "      <th>20505</th>\n",
       "      <td>0.0.20494</td>\n",
       "      <td>[-0.0298769521414]</td>\n",
       "    </tr>\n",
       "    <tr>\n",
       "      <th>20506</th>\n",
       "      <td>0.0.20495</td>\n",
       "      <td>[-0.129298459214]</td>\n",
       "    </tr>\n",
       "    <tr>\n",
       "      <th>20507</th>\n",
       "      <td>0.0.20496</td>\n",
       "      <td>[0.0776276432898]</td>\n",
       "    </tr>\n",
       "    <tr>\n",
       "      <th>20508</th>\n",
       "      <td>0.0.20497</td>\n",
       "      <td>[-0.40849794006]</td>\n",
       "    </tr>\n",
       "    <tr>\n",
       "      <th>20509</th>\n",
       "      <td>0.0.20498</td>\n",
       "      <td>[0.0206625361089]</td>\n",
       "    </tr>\n",
       "    <tr>\n",
       "      <th>20510</th>\n",
       "      <td>0.0.20499</td>\n",
       "      <td>[-0.152924759051]</td>\n",
       "    </tr>\n",
       "    <tr>\n",
       "      <th>20511</th>\n",
       "      <td>0.0.20500</td>\n",
       "      <td>[0.0530221875518]</td>\n",
       "    </tr>\n",
       "    <tr>\n",
       "      <th>20512</th>\n",
       "      <td>0.0.20501</td>\n",
       "      <td>[-0.0703778785916]</td>\n",
       "    </tr>\n",
       "  </tbody>\n",
       "</table>\n",
       "<p>20513 rows × 2 columns</p>\n",
       "</div>"
      ],
      "text/plain": [
       "                0                    1\n",
       "0             0.0     [-2.25187398372]\n",
       "1           0.0.1    [0.0308360934031]\n",
       "2           0.0.2    [0.0442828996498]\n",
       "3           0.0.3    [0.0515296537267]\n",
       "4           0.0.4   [-0.0331340160776]\n",
       "5           0.0.5     [0.406993810301]\n",
       "6           0.0.6     [0.124625584003]\n",
       "7           0.0.7    [0.0717480866207]\n",
       "8           0.0.8    [0.0768352070789]\n",
       "9           0.0.9    [0.0592044159792]\n",
       "10         0.0.10    [-0.182334208234]\n",
       "11         0.0.11   [-0.0341636083297]\n",
       "12         0.0.12    [-0.136532818548]\n",
       "13         0.0.13    [0.0263888473643]\n",
       "14         0.0.14    [0.0673224472315]\n",
       "15         0.0.15     [0.442411761202]\n",
       "16         0.0.16    [-0.457933483021]\n",
       "17         0.0.17    [-0.136161030044]\n",
       "18         0.0.18  [-0.00988183067215]\n",
       "19         0.0.19   [-0.0338278375394]\n",
       "20         0.0.20    [-0.914255663872]\n",
       "21         0.0.21    [0.0626144796494]\n",
       "22         0.0.22   [-0.0595117994277]\n",
       "23         0.0.23    [0.0230325186006]\n",
       "24         0.0.24    [0.0516934202497]\n",
       "25         0.0.25     [0.321050040096]\n",
       "26         0.0.26    [-0.050673313454]\n",
       "27         0.0.27    [-0.138483691995]\n",
       "28         0.0.28    [0.0896951832341]\n",
       "29         0.0.29    [0.0493746582263]\n",
       "...           ...                  ...\n",
       "20483   0.0.20472   [-0.0566074185365]\n",
       "20484   0.0.20473     [0.125799650134]\n",
       "20485   0.0.20474   [-0.0488658731641]\n",
       "20486   0.0.20475   [-0.0483979897264]\n",
       "20487   0.0.20476    [0.0190141825177]\n",
       "20488   0.0.20477   [-0.0876386268137]\n",
       "20489   0.0.20478    [0.0292112099393]\n",
       "20490   0.0.20479    [-0.042819767398]\n",
       "20491   0.0.20480     [0.117289599626]\n",
       "20492   0.0.20481   [-0.0132139698921]\n",
       "20493   0.0.20482    [0.0293032755232]\n",
       "20494   0.0.20483     [0.259749563997]\n",
       "20495   0.0.20484  [-0.00189267231477]\n",
       "20496   0.0.20485     [0.159078678841]\n",
       "20497   0.0.20486    [-0.283859705107]\n",
       "20498   0.0.20487     [-0.10454677971]\n",
       "20499   0.0.20488    [0.0687295860367]\n",
       "20500   0.0.20489     [0.170161706702]\n",
       "20501   0.0.20490    [0.0775071860364]\n",
       "20502   0.0.20491    [0.0233648762798]\n",
       "20503   0.0.20492    [0.0395214792697]\n",
       "20504   0.0.20493     [0.131537060106]\n",
       "20505   0.0.20494   [-0.0298769521414]\n",
       "20506   0.0.20495    [-0.129298459214]\n",
       "20507   0.0.20496    [0.0776276432898]\n",
       "20508   0.0.20497     [-0.40849794006]\n",
       "20509   0.0.20498    [0.0206625361089]\n",
       "20510   0.0.20499    [-0.152924759051]\n",
       "20511   0.0.20500    [0.0530221875518]\n",
       "20512   0.0.20501   [-0.0703778785916]\n",
       "\n",
       "[20513 rows x 2 columns]"
      ]
     },
     "execution_count": 23,
     "metadata": {},
     "output_type": "execute_result"
    }
   ],
   "source": [
    "pd.DataFrame(zip(dataX.columns, np.transpose(model.coef_)))"
   ]
  },
  {
   "cell_type": "markdown",
   "metadata": {},
   "source": [
    "#### 3.2.1 - Validação Cruzada"
   ]
  },
  {
   "cell_type": "code",
   "execution_count": 42,
   "metadata": {
    "collapsed": true
   },
   "outputs": [],
   "source": [
    "valores = [0.001, 0.005, 0.01, 0.05, 0.1, 1, 2, 3, 4, 5, 6, 7, 8, 9, 10]"
   ]
  },
  {
   "cell_type": "code",
   "execution_count": 25,
   "metadata": {
    "collapsed": true
   },
   "outputs": [],
   "source": [
    "def score_acuracia(model, X, Y):\n",
    "    scores_acuracia= cross_val_score(model, X, Y, scoring=\"accuracy\", cv = 10)\n",
    "    return(scores_acuracia)"
   ]
  },
  {
   "cell_type": "code",
   "execution_count": 45,
   "metadata": {
    "collapsed": true
   },
   "outputs": [],
   "source": [
    "cv_acuracia = [score_acuracia(LogisticRegression(C = valor), dataX, Y).mean() \n",
    "            for valor in valores]"
   ]
  },
  {
   "cell_type": "code",
   "execution_count": 46,
   "metadata": {},
   "outputs": [
    {
     "data": {
      "text/plain": [
       "<matplotlib.text.Text at 0x102edf98>"
      ]
     },
     "execution_count": 46,
     "metadata": {},
     "output_type": "execute_result"
    },
    {
     "data": {
      "image/png": "[encoded data removed]",
      "text/plain": [
       "<matplotlib.figure.Figure at 0x3763ea58>"
      ]
     },
     "metadata": {
      "image/png": {
       "height": 277,
       "width": 398
      }
     },
     "output_type": "display_data"
    }
   ],
   "source": [
    "cv_acuracia = pd.Series(cv_acuracia, index = valores)\n",
    "cv_acuracia.plot(title = \"Cross validation - Acuracia\")\n",
    "plt.xlabel(\"C\")\n",
    "plt.ylabel(\"Acuracia\")"
   ]
  },
  {
   "cell_type": "code",
   "execution_count": 47,
   "metadata": {},
   "outputs": [
    {
     "data": {
      "text/plain": [
       "0.001     0.549667\n",
       "0.005     0.601509\n",
       "0.010     0.768464\n",
       "0.050     0.882420\n",
       "0.100     0.897192\n",
       "1.000     0.924270\n",
       "2.000     0.929917\n",
       "3.000     0.930931\n",
       "4.000     0.932378\n",
       "5.000     0.933681\n",
       "6.000     0.934695\n",
       "7.000     0.935274\n",
       "8.000     0.935708\n",
       "9.000     0.936287\n",
       "10.000    0.936432\n",
       "dtype: float64"
      ]
     },
     "execution_count": 47,
     "metadata": {},
     "output_type": "execute_result"
    }
   ],
   "source": [
    "cv_acuracia"
   ]
  },
  {
   "cell_type": "code",
   "execution_count": 160,
   "metadata": {},
   "outputs": [
    {
     "name": "stdout",
     "output_type": "stream",
     "text": [
      "[[-0.37987863  0.00208073  0.00181041 ..., -0.00586107  0.00198537\n",
      "  -0.00277242]]\n",
      "0.874741035857\n"
     ]
    }
   ],
   "source": [
    "lr = LogisticRegression(C=0.01)\n",
    "modelo = lr.fit(dataX, Y)\n",
    "print modelo.coef_\n",
    "acuracia_cv = modelo.score(dataX, Y)\n",
    "print acuracia_cv"
   ]
  },
  {
   "cell_type": "markdown",
   "metadata": {},
   "source": [
    "#### 3.2.2 - Usando um Validation Set"
   ]
  },
  {
   "cell_type": "code",
   "execution_count": 56,
   "metadata": {},
   "outputs": [
    {
     "data": {
      "text/plain": [
       "LogisticRegression(C=1.0, class_weight=None, dual=False, fit_intercept=True,\n",
       "          intercept_scaling=1, max_iter=100, multi_class='ovr', n_jobs=1,\n",
       "          penalty='l2', random_state=None, solver='liblinear', tol=0.0001,\n",
       "          verbose=0, warm_start=False)"
      ]
     },
     "execution_count": 56,
     "metadata": {},
     "output_type": "execute_result"
    }
   ],
   "source": [
    "X_treino, X_teste, y_treino, y_teste = train_test_split(dataX, Y, test_size=0.3)\n",
    "modeloTreinoTeste = LogisticRegression()\n",
    "modeloTreinoTeste.fit(X_treino, y_treino)"
   ]
  },
  {
   "cell_type": "code",
   "execution_count": 57,
   "metadata": {},
   "outputs": [
    {
     "name": "stdout",
     "output_type": "stream",
     "text": [
      "[0 0 0 ..., 1 1 1]\n"
     ]
    }
   ],
   "source": [
    "predicao = modeloTreinoTeste.predict(X_teste)\n",
    "print predicao"
   ]
  },
  {
   "cell_type": "code",
   "execution_count": 58,
   "metadata": {},
   "outputs": [
    {
     "name": "stdout",
     "output_type": "stream",
     "text": [
      "0.917953667954\n"
     ]
    }
   ],
   "source": [
    "acuracia_vs = metrics.accuracy_score(y_teste, predicao)\n",
    "print acuracia_vs"
   ]
  },
  {
   "cell_type": "code",
   "execution_count": 59,
   "metadata": {},
   "outputs": [
    {
     "name": "stdout",
     "output_type": "stream",
     "text": [
      "[[1044  115]\n",
      " [  55  858]]\n",
      "             precision    recall  f1-score   support\n",
      "\n",
      "          0       0.95      0.90      0.92      1159\n",
      "          1       0.88      0.94      0.91       913\n",
      "\n",
      "avg / total       0.92      0.92      0.92      2072\n",
      "\n"
     ]
    }
   ],
   "source": [
    "print metrics.confusion_matrix(y_teste, predicao)\n",
    "print metrics.classification_report(y_teste, predicao)"
   ]
  },
  {
   "cell_type": "markdown",
   "metadata": {},
   "source": [
    "## 4 - Dados com features não-textuais\n",
    "\n",
    "Para essa seção, usaremos a base de dados que possuem as informações não-textuais dos tweets."
   ]
  },
  {
   "cell_type": "markdown",
   "metadata": {
    "collapsed": true
   },
   "source": [
    "### 4.1 - Preparando os Dados\n",
    "\n",
    "Para a classificação dos tweets, foi gerada uma nova *bag of words* TFIDF incluindo as características não-textuais."
   ]
  },
  {
   "cell_type": "code",
   "execution_count": 35,
   "metadata": {
    "collapsed": true
   },
   "outputs": [],
   "source": [
    "bowComFeature = pd.read_csv(\"tweets_com_caracteristicas2.csv\")"
   ]
  },
  {
   "cell_type": "code",
   "execution_count": 36,
   "metadata": {
    "collapsed": true
   },
   "outputs": [],
   "source": [
    "Y_feature = bowComFeature[bowComFeature.columns[0]]\n",
    "Y_feature = np.ravel(Y_feature)"
   ]
  },
  {
   "cell_type": "code",
   "execution_count": 37,
   "metadata": {
    "collapsed": true
   },
   "outputs": [],
   "source": [
    "bowComFeature.drop(bowComFeature.columns[[0]], axis=1, inplace=True)"
   ]
  },
  {
   "cell_type": "code",
   "execution_count": 38,
   "metadata": {
    "collapsed": true
   },
   "outputs": [],
   "source": [
    "dataX_feature = bowComFeature\n",
    "dataY_feature = bowComFeature[bowComFeature.shape[0]:]"
   ]
  },
  {
   "cell_type": "markdown",
   "metadata": {},
   "source": [
    "### 4.2 - Regressão Logística"
   ]
  },
  {
   "cell_type": "code",
   "execution_count": 60,
   "metadata": {},
   "outputs": [
    {
     "data": {
      "text/plain": [
       "0.9863886475528526"
      ]
     },
     "execution_count": 60,
     "metadata": {},
     "output_type": "execute_result"
    }
   ],
   "source": [
    "modelFeature = LogisticRegression()\n",
    "modelFeature = modelFeature.fit(dataX_feature, Y_feature)\n",
    "\n",
    "# check the accuracy on the training set\n",
    "modelFeature.score(dataX_feature, Y_feature)"
   ]
  },
  {
   "cell_type": "code",
   "execution_count": 40,
   "metadata": {},
   "outputs": [
    {
     "data": {
      "text/html": [
       "<div>\n",
       "<style>\n",
       "    .dataframe thead tr:only-child th {\n",
       "        text-align: right;\n",
       "    }\n",
       "\n",
       "    .dataframe thead th {\n",
       "        text-align: left;\n",
       "    }\n",
       "\n",
       "    .dataframe tbody tr th {\n",
       "        vertical-align: top;\n",
       "    }\n",
       "</style>\n",
       "<table border=\"1\" class=\"dataframe\">\n",
       "  <thead>\n",
       "    <tr style=\"text-align: right;\">\n",
       "      <th></th>\n",
       "      <th>0</th>\n",
       "      <th>1</th>\n",
       "    </tr>\n",
       "  </thead>\n",
       "  <tbody>\n",
       "    <tr>\n",
       "      <th>0</th>\n",
       "      <td>0.0</td>\n",
       "      <td>[-2.85841570462]</td>\n",
       "    </tr>\n",
       "    <tr>\n",
       "      <th>1</th>\n",
       "      <td>0.0.1</td>\n",
       "      <td>[7.22506380964e-05]</td>\n",
       "    </tr>\n",
       "    <tr>\n",
       "      <th>2</th>\n",
       "      <td>0.0.2</td>\n",
       "      <td>[-4.93674845488e-05]</td>\n",
       "    </tr>\n",
       "    <tr>\n",
       "      <th>3</th>\n",
       "      <td>0.0.3</td>\n",
       "      <td>[-7.52371348575e-06]</td>\n",
       "    </tr>\n",
       "    <tr>\n",
       "      <th>4</th>\n",
       "      <td>0.0.4</td>\n",
       "      <td>[-0.0375262942459]</td>\n",
       "    </tr>\n",
       "    <tr>\n",
       "      <th>5</th>\n",
       "      <td>0.0.5</td>\n",
       "      <td>[0.352359389198]</td>\n",
       "    </tr>\n",
       "    <tr>\n",
       "      <th>6</th>\n",
       "      <td>0.0.6</td>\n",
       "      <td>[0.0984924352279]</td>\n",
       "    </tr>\n",
       "    <tr>\n",
       "      <th>7</th>\n",
       "      <td>0.0.7</td>\n",
       "      <td>[0.00690316561636]</td>\n",
       "    </tr>\n",
       "    <tr>\n",
       "      <th>8</th>\n",
       "      <td>0.0.8</td>\n",
       "      <td>[0.0867461797458]</td>\n",
       "    </tr>\n",
       "    <tr>\n",
       "      <th>9</th>\n",
       "      <td>0.0.9</td>\n",
       "      <td>[-0.000237638469652]</td>\n",
       "    </tr>\n",
       "    <tr>\n",
       "      <th>10</th>\n",
       "      <td>0.0.10</td>\n",
       "      <td>[-0.101470388255]</td>\n",
       "    </tr>\n",
       "    <tr>\n",
       "      <th>11</th>\n",
       "      <td>0.0.11</td>\n",
       "      <td>[-0.00328362745822]</td>\n",
       "    </tr>\n",
       "    <tr>\n",
       "      <th>12</th>\n",
       "      <td>0.0.12</td>\n",
       "      <td>[-0.0655007678452]</td>\n",
       "    </tr>\n",
       "    <tr>\n",
       "      <th>13</th>\n",
       "      <td>0.0.13</td>\n",
       "      <td>[-1.08112121195e-06]</td>\n",
       "    </tr>\n",
       "    <tr>\n",
       "      <th>14</th>\n",
       "      <td>0.0.14</td>\n",
       "      <td>[-0.114856140782]</td>\n",
       "    </tr>\n",
       "    <tr>\n",
       "      <th>15</th>\n",
       "      <td>0.0.15</td>\n",
       "      <td>[-0.000503122706413]</td>\n",
       "    </tr>\n",
       "    <tr>\n",
       "      <th>16</th>\n",
       "      <td>0.0.16</td>\n",
       "      <td>[-0.398119599826]</td>\n",
       "    </tr>\n",
       "    <tr>\n",
       "      <th>17</th>\n",
       "      <td>0.0.17</td>\n",
       "      <td>[-0.255762891957]</td>\n",
       "    </tr>\n",
       "    <tr>\n",
       "      <th>18</th>\n",
       "      <td>0.0.18</td>\n",
       "      <td>[-0.00785526363979]</td>\n",
       "    </tr>\n",
       "    <tr>\n",
       "      <th>19</th>\n",
       "      <td>0.0.19</td>\n",
       "      <td>[-0.000547249309674]</td>\n",
       "    </tr>\n",
       "    <tr>\n",
       "      <th>20</th>\n",
       "      <td>0.0.20</td>\n",
       "      <td>[-0.498231160881]</td>\n",
       "    </tr>\n",
       "    <tr>\n",
       "      <th>21</th>\n",
       "      <td>0.0.21</td>\n",
       "      <td>[0.00383622130894]</td>\n",
       "    </tr>\n",
       "    <tr>\n",
       "      <th>22</th>\n",
       "      <td>0.0.22</td>\n",
       "      <td>[-0.130885731873]</td>\n",
       "    </tr>\n",
       "    <tr>\n",
       "      <th>23</th>\n",
       "      <td>0.0.23</td>\n",
       "      <td>[0.00246461422884]</td>\n",
       "    </tr>\n",
       "    <tr>\n",
       "      <th>24</th>\n",
       "      <td>0.0.24</td>\n",
       "      <td>[0.0135793521116]</td>\n",
       "    </tr>\n",
       "    <tr>\n",
       "      <th>25</th>\n",
       "      <td>0.0.25</td>\n",
       "      <td>[0.244726626537]</td>\n",
       "    </tr>\n",
       "    <tr>\n",
       "      <th>26</th>\n",
       "      <td>0.0.26</td>\n",
       "      <td>[-0.0290557170348]</td>\n",
       "    </tr>\n",
       "    <tr>\n",
       "      <th>27</th>\n",
       "      <td>0.0.27</td>\n",
       "      <td>[-0.00271208319999]</td>\n",
       "    </tr>\n",
       "    <tr>\n",
       "      <th>28</th>\n",
       "      <td>0.0.28</td>\n",
       "      <td>[2.35301084175e-08]</td>\n",
       "    </tr>\n",
       "    <tr>\n",
       "      <th>29</th>\n",
       "      <td>0.0.29</td>\n",
       "      <td>[0.0982756758941]</td>\n",
       "    </tr>\n",
       "    <tr>\n",
       "      <th>...</th>\n",
       "      <td>...</td>\n",
       "      <td>...</td>\n",
       "    </tr>\n",
       "    <tr>\n",
       "      <th>20485</th>\n",
       "      <td>0.0.20474</td>\n",
       "      <td>[-0.00237538568731]</td>\n",
       "    </tr>\n",
       "    <tr>\n",
       "      <th>20486</th>\n",
       "      <td>0.0.20475</td>\n",
       "      <td>[-0.0401268434113]</td>\n",
       "    </tr>\n",
       "    <tr>\n",
       "      <th>20487</th>\n",
       "      <td>0.0.20476</td>\n",
       "      <td>[-0.000172798807026]</td>\n",
       "    </tr>\n",
       "    <tr>\n",
       "      <th>20488</th>\n",
       "      <td>0.0.20477</td>\n",
       "      <td>[-0.0479348072574]</td>\n",
       "    </tr>\n",
       "    <tr>\n",
       "      <th>20489</th>\n",
       "      <td>0.0.20478</td>\n",
       "      <td>[1.49598363019e-07]</td>\n",
       "    </tr>\n",
       "    <tr>\n",
       "      <th>20490</th>\n",
       "      <td>0.0.20479</td>\n",
       "      <td>[-0.0411625234511]</td>\n",
       "    </tr>\n",
       "    <tr>\n",
       "      <th>20491</th>\n",
       "      <td>0.0.20480</td>\n",
       "      <td>[-2.33022815116e-05]</td>\n",
       "    </tr>\n",
       "    <tr>\n",
       "      <th>20492</th>\n",
       "      <td>0.0.20481</td>\n",
       "      <td>[-0.0104827835317]</td>\n",
       "    </tr>\n",
       "    <tr>\n",
       "      <th>20493</th>\n",
       "      <td>0.0.20482</td>\n",
       "      <td>[0.0306829574097]</td>\n",
       "    </tr>\n",
       "    <tr>\n",
       "      <th>20494</th>\n",
       "      <td>0.0.20483</td>\n",
       "      <td>[0.170791506523]</td>\n",
       "    </tr>\n",
       "    <tr>\n",
       "      <th>20495</th>\n",
       "      <td>0.0.20484</td>\n",
       "      <td>[-0.0103148882894]</td>\n",
       "    </tr>\n",
       "    <tr>\n",
       "      <th>20496</th>\n",
       "      <td>0.0.20485</td>\n",
       "      <td>[0.158202399732]</td>\n",
       "    </tr>\n",
       "    <tr>\n",
       "      <th>20497</th>\n",
       "      <td>0.0.20486</td>\n",
       "      <td>[-0.189936524939]</td>\n",
       "    </tr>\n",
       "    <tr>\n",
       "      <th>20498</th>\n",
       "      <td>0.0.20487</td>\n",
       "      <td>[-0.0578836454291]</td>\n",
       "    </tr>\n",
       "    <tr>\n",
       "      <th>20499</th>\n",
       "      <td>0.0.20488</td>\n",
       "      <td>[0.00799166693713]</td>\n",
       "    </tr>\n",
       "    <tr>\n",
       "      <th>20500</th>\n",
       "      <td>0.0.20489</td>\n",
       "      <td>[0.0768579406773]</td>\n",
       "    </tr>\n",
       "    <tr>\n",
       "      <th>20501</th>\n",
       "      <td>0.0.20490</td>\n",
       "      <td>[-0.000149892363679]</td>\n",
       "    </tr>\n",
       "    <tr>\n",
       "      <th>20502</th>\n",
       "      <td>0.0.20491</td>\n",
       "      <td>[0.0632566765915]</td>\n",
       "    </tr>\n",
       "    <tr>\n",
       "      <th>20503</th>\n",
       "      <td>0.0.20492</td>\n",
       "      <td>[-6.96961288471e-05]</td>\n",
       "    </tr>\n",
       "    <tr>\n",
       "      <th>20504</th>\n",
       "      <td>0.0.20493</td>\n",
       "      <td>[0.152986343191]</td>\n",
       "    </tr>\n",
       "    <tr>\n",
       "      <th>20505</th>\n",
       "      <td>0.0.20494</td>\n",
       "      <td>[-0.0245904228859]</td>\n",
       "    </tr>\n",
       "    <tr>\n",
       "      <th>20506</th>\n",
       "      <td>0.0.20495</td>\n",
       "      <td>[-0.0841223434028]</td>\n",
       "    </tr>\n",
       "    <tr>\n",
       "      <th>20507</th>\n",
       "      <td>0.0.20496</td>\n",
       "      <td>[0.0122219779165]</td>\n",
       "    </tr>\n",
       "    <tr>\n",
       "      <th>20508</th>\n",
       "      <td>0.0.20497</td>\n",
       "      <td>[-0.279683368698]</td>\n",
       "    </tr>\n",
       "    <tr>\n",
       "      <th>20509</th>\n",
       "      <td>0.0.20498</td>\n",
       "      <td>[0.00154744229855]</td>\n",
       "    </tr>\n",
       "    <tr>\n",
       "      <th>20510</th>\n",
       "      <td>0.0.20499</td>\n",
       "      <td>[-0.133367334953]</td>\n",
       "    </tr>\n",
       "    <tr>\n",
       "      <th>20511</th>\n",
       "      <td>0.0.20500</td>\n",
       "      <td>[0.00503819155398]</td>\n",
       "    </tr>\n",
       "    <tr>\n",
       "      <th>20512</th>\n",
       "      <td>0.0.20501</td>\n",
       "      <td>[-0.0560148050109]</td>\n",
       "    </tr>\n",
       "    <tr>\n",
       "      <th>20513</th>\n",
       "      <td>0</td>\n",
       "      <td>[0.843715249848]</td>\n",
       "    </tr>\n",
       "    <tr>\n",
       "      <th>20514</th>\n",
       "      <td>60</td>\n",
       "      <td>[-0.000857211642692]</td>\n",
       "    </tr>\n",
       "  </tbody>\n",
       "</table>\n",
       "<p>20515 rows × 2 columns</p>\n",
       "</div>"
      ],
      "text/plain": [
       "                0                     1\n",
       "0             0.0      [-2.85841570462]\n",
       "1           0.0.1   [7.22506380964e-05]\n",
       "2           0.0.2  [-4.93674845488e-05]\n",
       "3           0.0.3  [-7.52371348575e-06]\n",
       "4           0.0.4    [-0.0375262942459]\n",
       "5           0.0.5      [0.352359389198]\n",
       "6           0.0.6     [0.0984924352279]\n",
       "7           0.0.7    [0.00690316561636]\n",
       "8           0.0.8     [0.0867461797458]\n",
       "9           0.0.9  [-0.000237638469652]\n",
       "10         0.0.10     [-0.101470388255]\n",
       "11         0.0.11   [-0.00328362745822]\n",
       "12         0.0.12    [-0.0655007678452]\n",
       "13         0.0.13  [-1.08112121195e-06]\n",
       "14         0.0.14     [-0.114856140782]\n",
       "15         0.0.15  [-0.000503122706413]\n",
       "16         0.0.16     [-0.398119599826]\n",
       "17         0.0.17     [-0.255762891957]\n",
       "18         0.0.18   [-0.00785526363979]\n",
       "19         0.0.19  [-0.000547249309674]\n",
       "20         0.0.20     [-0.498231160881]\n",
       "21         0.0.21    [0.00383622130894]\n",
       "22         0.0.22     [-0.130885731873]\n",
       "23         0.0.23    [0.00246461422884]\n",
       "24         0.0.24     [0.0135793521116]\n",
       "25         0.0.25      [0.244726626537]\n",
       "26         0.0.26    [-0.0290557170348]\n",
       "27         0.0.27   [-0.00271208319999]\n",
       "28         0.0.28   [2.35301084175e-08]\n",
       "29         0.0.29     [0.0982756758941]\n",
       "...           ...                   ...\n",
       "20485   0.0.20474   [-0.00237538568731]\n",
       "20486   0.0.20475    [-0.0401268434113]\n",
       "20487   0.0.20476  [-0.000172798807026]\n",
       "20488   0.0.20477    [-0.0479348072574]\n",
       "20489   0.0.20478   [1.49598363019e-07]\n",
       "20490   0.0.20479    [-0.0411625234511]\n",
       "20491   0.0.20480  [-2.33022815116e-05]\n",
       "20492   0.0.20481    [-0.0104827835317]\n",
       "20493   0.0.20482     [0.0306829574097]\n",
       "20494   0.0.20483      [0.170791506523]\n",
       "20495   0.0.20484    [-0.0103148882894]\n",
       "20496   0.0.20485      [0.158202399732]\n",
       "20497   0.0.20486     [-0.189936524939]\n",
       "20498   0.0.20487    [-0.0578836454291]\n",
       "20499   0.0.20488    [0.00799166693713]\n",
       "20500   0.0.20489     [0.0768579406773]\n",
       "20501   0.0.20490  [-0.000149892363679]\n",
       "20502   0.0.20491     [0.0632566765915]\n",
       "20503   0.0.20492  [-6.96961288471e-05]\n",
       "20504   0.0.20493      [0.152986343191]\n",
       "20505   0.0.20494    [-0.0245904228859]\n",
       "20506   0.0.20495    [-0.0841223434028]\n",
       "20507   0.0.20496     [0.0122219779165]\n",
       "20508   0.0.20497     [-0.279683368698]\n",
       "20509   0.0.20498    [0.00154744229855]\n",
       "20510   0.0.20499     [-0.133367334953]\n",
       "20511   0.0.20500    [0.00503819155398]\n",
       "20512   0.0.20501    [-0.0560148050109]\n",
       "20513           0      [0.843715249848]\n",
       "20514          60  [-0.000857211642692]\n",
       "\n",
       "[20515 rows x 2 columns]"
      ]
     },
     "execution_count": 40,
     "metadata": {},
     "output_type": "execute_result"
    }
   ],
   "source": [
    "pd.DataFrame(zip(dataX_feature.columns, np.transpose(modelFeature.coef_)))"
   ]
  },
  {
   "cell_type": "markdown",
   "metadata": {},
   "source": [
    "#### 4.2.1 - Validação Cruzada"
   ]
  },
  {
   "cell_type": "code",
   "execution_count": 61,
   "metadata": {
    "collapsed": true
   },
   "outputs": [],
   "source": [
    "cv_acuracia_feature = [score_acuracia(LogisticRegression(C = valor), dataX_feature, Y_feature).mean() \n",
    "            for valor in valores]"
   ]
  },
  {
   "cell_type": "code",
   "execution_count": 62,
   "metadata": {},
   "outputs": [
    {
     "data": {
      "text/plain": [
       "<matplotlib.text.Text at 0x19813b38>"
      ]
     },
     "execution_count": 62,
     "metadata": {},
     "output_type": "execute_result"
    },
    {
     "data": {
      "image/png": "[encoded data removed]",
      "text/plain": [
       "<matplotlib.figure.Figure at 0x3763eb00>"
      ]
     },
     "metadata": {
      "image/png": {
       "height": 277,
       "width": 404
      }
     },
     "output_type": "display_data"
    }
   ],
   "source": [
    "cv_acuracia_feature = pd.Series(cv_acuracia_feature, index = valores)\n",
    "cv_acuracia_feature.plot(title = \"Cross validation - Acuracia\")\n",
    "plt.xlabel(\"C\")\n",
    "plt.ylabel(\"Acuracia\")"
   ]
  },
  {
   "cell_type": "code",
   "execution_count": 63,
   "metadata": {},
   "outputs": [
    {
     "data": {
      "text/plain": [
       "0.001     0.790181\n",
       "0.005     0.798000\n",
       "0.010     0.799448\n",
       "0.050     0.830727\n",
       "0.100     0.876339\n",
       "1.000     0.946423\n",
       "2.000     0.949753\n",
       "3.000     0.950043\n",
       "4.000     0.950911\n",
       "5.000     0.952938\n",
       "6.000     0.950043\n",
       "7.000     0.952359\n",
       "8.000     0.953807\n",
       "9.000     0.950332\n",
       "10.000    0.953951\n",
       "dtype: float64"
      ]
     },
     "execution_count": 63,
     "metadata": {},
     "output_type": "execute_result"
    }
   ],
   "source": [
    "cv_acuracia_feature"
   ]
  },
  {
   "cell_type": "code",
   "execution_count": 161,
   "metadata": {},
   "outputs": [
    {
     "name": "stdout",
     "output_type": "stream",
     "text": [
      "[[ -1.77493422e+00   2.77919624e-05   2.07215328e-06 ...,  -1.24653888e-02\n",
      "    1.45811215e+00  -1.13754506e-03]]\n",
      "0.90422310757\n"
     ]
    }
   ],
   "source": [
    "lr_feature = LogisticRegression(C=0.1)\n",
    "modelo_feature = lr_feature.fit(dataX_feature, Y_feature)\n",
    "print modelo_feature.coef_\n",
    "acuracia_cv_feature = modelo_feature.score(dataX_feature, Y_feature)\n",
    "print acuracia_cv_feature"
   ]
  },
  {
   "cell_type": "markdown",
   "metadata": {},
   "source": [
    "#### 4.2.2 - Usando um Validation Set"
   ]
  },
  {
   "cell_type": "code",
   "execution_count": 79,
   "metadata": {},
   "outputs": [
    {
     "data": {
      "text/plain": [
       "LogisticRegression(C=1.0, class_weight=None, dual=False, fit_intercept=True,\n",
       "          intercept_scaling=1, max_iter=100, multi_class='ovr', n_jobs=1,\n",
       "          penalty='l2', random_state=None, solver='liblinear', tol=0.0001,\n",
       "          verbose=0, warm_start=False)"
      ]
     },
     "execution_count": 79,
     "metadata": {},
     "output_type": "execute_result"
    }
   ],
   "source": [
    "X_treino_feature, X_teste_feature, y_treino_feature, y_teste_feature = train_test_split(dataX_feature, Y_feature, test_size=0.3)\n",
    "modeloTreinoTesteFeature = LogisticRegression()\n",
    "modeloTreinoTesteFeature.fit(X_treino_feature, y_treino_feature)"
   ]
  },
  {
   "cell_type": "code",
   "execution_count": 80,
   "metadata": {},
   "outputs": [
    {
     "name": "stdout",
     "output_type": "stream",
     "text": [
      "[1 0 0 ..., 1 1 0]\n"
     ]
    }
   ],
   "source": [
    "predicao_feature = modeloTreinoTesteFeature.predict(X_teste_feature)\n",
    "print predicao_feature"
   ]
  },
  {
   "cell_type": "code",
   "execution_count": 81,
   "metadata": {},
   "outputs": [
    {
     "name": "stdout",
     "output_type": "stream",
     "text": [
      "0.947876447876\n"
     ]
    }
   ],
   "source": [
    "acuracia_vs_feature = metrics.accuracy_score(y_teste_feature, predicao_feature)\n",
    "print acuracia_vs_feature"
   ]
  },
  {
   "cell_type": "code",
   "execution_count": 82,
   "metadata": {},
   "outputs": [
    {
     "name": "stdout",
     "output_type": "stream",
     "text": [
      "[[1128   33]\n",
      " [  75  836]]\n",
      "             precision    recall  f1-score   support\n",
      "\n",
      "          0       0.94      0.97      0.95      1161\n",
      "          1       0.96      0.92      0.94       911\n",
      "\n",
      "avg / total       0.95      0.95      0.95      2072\n",
      "\n"
     ]
    }
   ],
   "source": [
    "print metrics.confusion_matrix(y_teste_feature, predicao_feature)\n",
    "print metrics.classification_report(y_teste_feature, predicao_feature)"
   ]
  },
  {
   "cell_type": "markdown",
   "metadata": {},
   "source": [
    "## Resultados\n",
    "\n",
    "Comparando os coeficientes obtidos usando Cross Validation e Validation Set pra as duas Bag of Words, que diferem pela presença ou não de características não-textuais, concluimos que o uso de características não-textauis ajudam a melhorar a classificação dos tweets, já que melhorou em aproximadamente 3% a acurácia. \n",
    "\n",
    "Assim, o uso dessas características afeta de maneira significativa a classificação dos dados.\n",
    "\n",
    "Também podemos perceber que o uso da Regressão Logística para classificação de tweets políticos é viável devido à alta taxa de acertos do classificador."
   ]
  },
  {
   "cell_type": "code",
   "execution_count": 162,
   "metadata": {},
   "outputs": [
    {
     "name": "stdout",
     "output_type": "stream",
     "text": [
      "---------------------------------------------\n",
      "Dados sem features:\n",
      "Cross Validation - Acurácia: 0.874741035857\n",
      "Validation Set - Acurácia: 0.91980881572\n",
      "---------------------------------------------\n",
      "Dados com features:\n",
      "Cross Validation - Acurácia: 0.90422310757\n",
      "Validation Set - Acurácia: 0.941051513542\n",
      "---------------------------------------------\n"
     ]
    }
   ],
   "source": [
    "print \"---------------------------------------------\"\n",
    "print \"Dados sem features:\"\n",
    "print(\"Cross Validation - Acurácia: {0}\").format(acuracia_cv)\n",
    "print(\"Validation Set - Acurácia: {0}\").format(acuracia_vs)\n",
    "\n",
    "print \"---------------------------------------------\"\n",
    "\n",
    "print \"Dados com features:\"\n",
    "print(\"Cross Validation - Acurácia: {0}\").format(acuracia_cv_feature)\n",
    "print(\"Validation Set - Acurácia: {0}\").format(acuracia_vs_feature)\n",
    "print \"---------------------------------------------\""
   ]
  },
  {
   "cell_type": "code",
   "execution_count": null,
   "metadata": {
    "collapsed": true
   },
   "outputs": [],
   "source": []
  }
 ],
 "metadata": {
  "celltoolbar": "Raw Cell Format",
  "kernelspec": {
   "display_name": "Python 2",
   "language": "python",
   "name": "python2"
  },
  "language_info": {
   "codemirror_mode": {
    "name": "ipython",
    "version": 2
   },
   "file_extension": ".py",
   "mimetype": "text/x-python",
   "name": "python",
   "nbconvert_exporter": "python",
   "pygments_lexer": "ipython2",
   "version": "2.7.13"
  }
 },
 "nbformat": 4,
 "nbformat_minor": 2
}
