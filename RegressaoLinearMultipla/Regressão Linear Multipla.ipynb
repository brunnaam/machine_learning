{
 "cells": [
  {
   "cell_type": "markdown",
   "metadata": {},
   "source": [
    "# Regressão Múltipla - Vetorizada\n",
    "\n",
    "Brunna de Sousa Pereira Amorim"
   ]
  },
  {
   "cell_type": "code",
   "execution_count": 29,
   "metadata": {},
   "outputs": [],
   "source": [
    "from sklearn import linear_model\n",
    "import numpy as np\n",
    "import math\n",
    "import time"
   ]
  },
  {
   "cell_type": "markdown",
   "metadata": {},
   "source": [
    "## Versão Vetorizada\n",
    "\n",
    "### RSS\n",
    "Temos que o RSS(w) é dado por:\n",
    "\n",
    "$RSS(w)=(y-Hw)^T(y-Hw)$"
   ]
  },
  {
   "cell_type": "code",
   "execution_count": 17,
   "metadata": {
    "collapsed": true
   },
   "outputs": [],
   "source": [
    "def compute_rss(w,X,Y):\n",
    "    res = Y - np.dot(X,w)\n",
    "    return (res.transpose().dot(res))"
   ]
  },
  {
   "cell_type": "markdown",
   "metadata": {},
   "source": [
    "### Gradiente do RSS\n",
    "\n",
    "Para calcularmos o gradiente do RSS, utilizaremos a seguinte equação:\n",
    "\n",
    "$∇RSS(w)=−2H^T(y−Hw)$\n",
    "\n",
    "E, enquanto o gradiente não converge, atualizaremos o vetor de coeficientes usando a seguinte equação:\n",
    "\n",
    "$w^{(t+1)}=w^{(t)}−\\alpha∇RSS(w^{(t)})$"
   ]
  },
  {
   "cell_type": "code",
   "execution_count": 18,
   "metadata": {
    "collapsed": true
   },
   "outputs": [],
   "source": [
    "def step_gradient(w_current,X,Y,learningRate):\n",
    "    res = Y - np.dot(X,w_current)\n",
    "    gradientRSS = np.dot(-2*(X.T), res)\n",
    "    new_w = w_current - learningRate * gradientRSS \n",
    "    return [new_w,gradientRSS]"
   ]
  },
  {
   "cell_type": "code",
   "execution_count": 19,
   "metadata": {
    "collapsed": true
   },
   "outputs": [],
   "source": [
    "def gradient_descent_runner(starting_w, X,Y, learning_rate, epsilon):\n",
    "    w = starting_w\n",
    "    grad = np.array([np.inf,np.inf, np.inf, np.inf, np.inf, np.inf])\n",
    "    while (np.linalg.norm(grad)>=epsilon):\n",
    "        w,grad = step_gradient(w, X, Y, learning_rate)\n",
    "    return w"
   ]
  },
  {
   "cell_type": "markdown",
   "metadata": {},
   "source": [
    "### Execução do algoritmo"
   ]
  },
  {
   "cell_type": "code",
   "execution_count": 20,
   "metadata": {
    "scrolled": true
   },
   "outputs": [
    {
     "name": "stdout",
     "output_type": "stream",
     "text": [
      "Começando o gradiente descendente. RSS=[[ 4794.2359393]]\n",
      "Gradiente descendente convergiu com os coeficientes [[ 1.7377107 ]\n",
      " [ 0.10304145]\n",
      " [ 0.04643674]\n",
      " [ 0.16409834]\n",
      " [ 0.38117847]\n",
      " [ 0.02027817]]\n",
      "RSS=[[ 36.19770785]]\n",
      "Versão vetorizada rodou em: 21970.0000286 ms\n"
     ]
    }
   ],
   "source": [
    "data = np.genfromtxt(\"sample_treino.csv\", delimiter=\",\")\n",
    "data = np.c_[np.ones(len(data)),data]\n",
    "X = data[:,[0,1,2,3,4,5]]\n",
    "Y = data[:,6][:,np.newaxis]\n",
    "\n",
    "init_w = np.zeros((6,1))\n",
    "learning_rate = 0.00001\n",
    "epsilon = 0.000001\n",
    "\n",
    "print(\"Começando o gradiente descendente. RSS={0}\".format(compute_rss(init_w, X,Y)))\n",
    "tic = time.time()\n",
    "w = gradient_descent_runner(init_w, X,Y, learning_rate, epsilon)\n",
    "toc = time.time()\n",
    "print(\"Gradiente descendente convergiu com os coeficientes {0}\".format(w))\n",
    "print(\"RSS={0}\").format(compute_rss(w,X,Y))\n",
    "print(\"Versão vetorizada rodou em: \" + str(1000*(toc-tic)) + \" ms\")\n"
   ]
  },
  {
   "cell_type": "markdown",
   "metadata": {},
   "source": [
    "### Coeficientes usando o scikit"
   ]
  },
  {
   "cell_type": "code",
   "execution_count": 31,
   "metadata": {},
   "outputs": [
    {
     "name": "stdout",
     "output_type": "stream",
     "text": [
      "Coeficientes usando o scikit: [[ 0.          0.10304143  0.0464367   0.16409834  0.38117843  0.02027816]]\n"
     ]
    }
   ],
   "source": [
    "regressao = linear_model.LinearRegression()\n",
    "regressao.fit(X, Y)\n",
    "print(\"Coeficientes usando o scikit: {0}\".format(regressao.coef_))"
   ]
  },
  {
   "cell_type": "code",
   "execution_count": null,
   "metadata": {
    "collapsed": true
   },
   "outputs": [],
   "source": []
  }
 ],
 "metadata": {
  "celltoolbar": "Raw Cell Format",
  "kernelspec": {
   "display_name": "Python 2",
   "language": "python",
   "name": "python2"
  },
  "language_info": {
   "codemirror_mode": {
    "name": "ipython",
    "version": 2
   },
   "file_extension": ".py",
   "mimetype": "text/x-python",
   "name": "python",
   "nbconvert_exporter": "python",
   "pygments_lexer": "ipython2",
   "version": "2.7.13"
  }
 },
 "nbformat": 4,
 "nbformat_minor": 2
}
